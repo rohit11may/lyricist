{
  "nbformat": 4,
  "nbformat_minor": 0,
  "metadata": {
    "colab": {
      "name": "Spotify Scraping.ipynb",
      "version": "0.3.2",
      "provenance": [],
      "collapsed_sections": []
    },
    "kernelspec": {
      "name": "python3",
      "display_name": "Python 3"
    }
  },
  "cells": [
    {
      "cell_type": "markdown",
      "metadata": {
        "id": "GJuH5AdXaPT2",
        "colab_type": "text"
      },
      "source": [
        "## Setup Cells"
      ]
    },
    {
      "cell_type": "code",
      "metadata": {
        "id": "lAj3XYhS4ukT",
        "colab_type": "code",
        "outputId": "4f44f6a4-0e8f-4a5b-8cc2-3134a7c7d8a9",
        "colab": {
          "base_uri": "https://localhost:8080/",
          "height": 204
        }
      },
      "source": [
        "!pip install spotipy\n",
        "!pip install langdetect\n",
        "!pip install spotify-token"
      ],
      "execution_count": 0,
      "outputs": [
        {
          "output_type": "stream",
          "text": [
            "Collecting langdetect\n",
            "\u001b[?25l  Downloading https://files.pythonhosted.org/packages/59/59/4bc44158a767a6d66de18c4136c8aa90491d56cc951c10b74dd1e13213c9/langdetect-1.0.7.zip (998kB)\n",
            "\u001b[K     |████████████████████████████████| 1.0MB 2.9MB/s \n",
            "\u001b[?25hRequirement already satisfied: six in /usr/local/lib/python3.6/dist-packages (from langdetect) (1.12.0)\n",
            "Building wheels for collected packages: langdetect\n",
            "  Building wheel for langdetect (setup.py) ... \u001b[?25l\u001b[?25hdone\n",
            "  Created wheel for langdetect: filename=langdetect-1.0.7-cp36-none-any.whl size=993460 sha256=4453f8193aa84f10aa647bd2f8a7fbaaad5559d6a51cf463c736c983ed5c76e9\n",
            "  Stored in directory: /root/.cache/pip/wheels/ec/0c/a9/1647275e7ef5014e7b83ff30105180e332867d65e7617ddafe\n",
            "Successfully built langdetect\n",
            "Installing collected packages: langdetect\n",
            "Successfully installed langdetect-1.0.7\n"
          ],
          "name": "stdout"
        }
      ]
    },
    {
      "cell_type": "code",
      "metadata": {
        "id": "NKo5sg5BEZ0_",
        "colab_type": "code",
        "colab": {}
      },
      "source": [
        "import pickle\n",
        "import spotify_token as st\n",
        "import spotipy as sp\n",
        "import json\n",
        "import numpy as np\n",
        "import pandas as pd\n",
        "import random\n",
        "\n",
        "\n",
        "from collections import Counter\n",
        "from itertools import chain\n",
        "from time import sleep\n",
        "from langdetect import detect\n",
        "from tqdm import trange\n",
        "from spotipy.oauth2 import SpotifyClientCredentials\n",
        "\n",
        "SPOTIPY_CLIENT_ID=''\n",
        "SPOTIPY_CLIENT_SECRET=''\n",
        "SPOTIPY_REDIRECT_URI='http://example.com'\n",
        "\n",
        "def save(obj, filename):\n",
        "  with open(filename, 'wb') as f:\n",
        "    pickle.dump(obj, f)\n",
        "  print(\"Saved at {}!\".format(filename))\n",
        "    \n",
        "def load(filename):\n",
        "  with open(filename, 'rb') as f:\n",
        "    obj = pickle.load(f) \n",
        "  return obj"
      ],
      "execution_count": 0,
      "outputs": []
    },
    {
      "cell_type": "markdown",
      "metadata": {
        "id": "vTpDyDLBXtZ9",
        "colab_type": "text"
      },
      "source": [
        "## Login OAuth"
      ]
    },
    {
      "cell_type": "code",
      "metadata": {
        "id": "nA1YMl6aEuP5",
        "colab_type": "code",
        "colab": {}
      },
      "source": [
        "data = st.start_session(input(\"Username: \"), input(\"Password: \"))\n",
        "access_token = data[0]\n",
        "expiration_date = data[1]\n",
        "\n",
        "spotify = sp.Spotify(access_token)"
      ],
      "execution_count": 0,
      "outputs": []
    },
    {
      "cell_type": "markdown",
      "metadata": {
        "id": "cur0z_D0XwQb",
        "colab_type": "text"
      },
      "source": [
        "## Get list of saved track item JSON"
      ]
    },
    {
      "cell_type": "code",
      "metadata": {
        "id": "JOPFwQiC6J4w",
        "colab_type": "code",
        "colab": {}
      },
      "source": [
        "def get_all_saved_tracks(sp):\n",
        "  results = sp.current_user_saved_tracks()\n",
        "  tracks = results['items']\n",
        "  while results['next']:\n",
        "      results = sp.next(results)\n",
        "      tracks.extend(results['items'])\n",
        "  return tracks\n",
        "\n",
        "items = [item['track'] for item in get_all_saved_tracks(spotify)]"
      ],
      "execution_count": 0,
      "outputs": []
    },
    {
      "cell_type": "markdown",
      "metadata": {
        "id": "W8IB48TdX2gJ",
        "colab_type": "text"
      },
      "source": [
        "## Get Audio Features JSON for each track item"
      ]
    },
    {
      "cell_type": "code",
      "metadata": {
        "id": "6uRiAijcenol",
        "colab_type": "code",
        "outputId": "e05bc2b8-5ff0-4276-f8b8-514af6901692",
        "colab": {
          "base_uri": "https://localhost:8080/",
          "height": 34
        }
      },
      "source": [
        "def get_audio_features_list(spotify, track_ids):\n",
        "  num_tracks = len(track_ids)\n",
        "  audio_features = []\n",
        "  step = 50\n",
        "  for i in trange(0, num_tracks, step):\n",
        "     audio_features.extend(spotify.audio_features(track_ids[i:min(i+step,num_tracks)]))\n",
        "  return audio_features\n",
        "  \n",
        "track_ids = [item['id'] for item in items]\n",
        "audio_features = get_audio_features_list(spotify, track_ids)"
      ],
      "execution_count": 0,
      "outputs": [
        {
          "output_type": "stream",
          "text": [
            "100%|██████████| 24/24 [00:01<00:00, 15.33it/s]\n"
          ],
          "name": "stderr"
        }
      ]
    },
    {
      "cell_type": "markdown",
      "metadata": {
        "id": "oPz_TTriYAFZ",
        "colab_type": "text"
      },
      "source": [
        "## Parse JSON to dictionary of audio data"
      ]
    },
    {
      "cell_type": "code",
      "metadata": {
        "id": "-yi0qoqKwN27",
        "colab_type": "code",
        "colab": {}
      },
      "source": [
        "TRACK_FEATURES = ['id', 'energy', 'danceability', 'liveness', \n",
        "                  'instrumentalness', 'acousticness', 'loudness', 'speechiness', 'tempo', 'valence',\n",
        "                  'key', 'mode', 'duration_ms']\n",
        "                  \n",
        "def get_track_data_with_audio_features(audio_features):\n",
        "  # Initialize empty dict.\n",
        "  track_data = dict.fromkeys(TRACK_FEATURES, 0)\n",
        "  for k in track_data.keys(): track_data[k] = []\n",
        "  \n",
        "  # Update all relevant track features\n",
        "  for af in audio_features:\n",
        "    for k, v in af.items():\n",
        "      if k in track_data: track_data[k].append(v)\n",
        "  return track_data\n",
        "\n",
        "audio_data = get_track_data_with_audio_features(audio_features)"
      ],
      "execution_count": 0,
      "outputs": []
    },
    {
      "cell_type": "markdown",
      "metadata": {
        "id": "vy_IeRiQYExp",
        "colab_type": "text"
      },
      "source": [
        "## Get artist and track names and merge with audio dictionary"
      ]
    },
    {
      "cell_type": "code",
      "metadata": {
        "id": "4H7QWZu27xAN",
        "colab_type": "code",
        "outputId": "00acdbc1-56ea-4ed7-f106-56cfe67d3c36",
        "colab": {
          "base_uri": "https://localhost:8080/",
          "height": 34
        }
      },
      "source": [
        "def get_track_name_dict(track_items): \n",
        "  track_name_dict = dict(name=[], artist=[])\n",
        "  for track in track_items:\n",
        "    artists = [artist['name'] for artist in track['artists']]\n",
        "    track_name_dict['name'].append(track['name'])\n",
        "    track_name_dict['artist'].append(artists)\n",
        "  return track_name_dict\n",
        "    \n",
        "track_name_dict = get_track_name_dict(items)\n",
        "track_data = audio_data.copy()\n",
        "track_data.update(track_name_dict)\n",
        "track_data['popularity'] = [item['popularity'] for item in items]\n",
        "save(track_data,\"track_data.pkl\")"
      ],
      "execution_count": 0,
      "outputs": [
        {
          "output_type": "stream",
          "text": [
            "Saved at track_data.pkl!\n"
          ],
          "name": "stdout"
        }
      ]
    },
    {
      "cell_type": "markdown",
      "metadata": {
        "id": "drEDrWuWYJoF",
        "colab_type": "text"
      },
      "source": [
        "##Lyric Scraping code"
      ]
    },
    {
      "cell_type": "code",
      "metadata": {
        "id": "kDOABf4mMkk7",
        "colab_type": "code",
        "colab": {}
      },
      "source": [
        "import requests\n",
        "from bs4 import BeautifulSoup\n",
        "\n",
        "token = \"\"\n",
        "def request_song_info(song_title, artist_name):\n",
        "  base_url = 'https://api.genius.com'\n",
        "  headers = {'Authorization': 'Bearer ' + token}\n",
        "  search_url = base_url + '/search'\n",
        "  data = {'q': song_title + ' ' + artist_name}\n",
        "  response = requests.get(search_url, data=data, headers=headers)\n",
        "\n",
        "  return response\n",
        "  \n",
        "def scrape_song_url(url):\n",
        "  page = requests.get(url)\n",
        "  html = BeautifulSoup(page.text, 'html.parser')\n",
        "  lyrics = html.find('div', class_='lyrics').get_text()\n",
        "  return lyrics\n",
        "\n",
        "def extract_lyrics(song_title, artist_name):\n",
        "  # Search for matches in the request response\n",
        "  response = request_song_info(song_title, artist_name)\n",
        "  json = response.json()\n",
        "  remote_song_info = None\n",
        "  \n",
        "  if json:\n",
        "    for hit in json['response']['hits']:\n",
        "      if artist_name.lower() in hit['result']['primary_artist']['name'].lower():\n",
        "        remote_song_info = hit\n",
        "        break\n",
        "    \n",
        "    # Extract lyrics from URL if the song was found\n",
        "    if remote_song_info:\n",
        "      song_url = remote_song_info['result']['url']\n",
        "      return scrape_song_url(song_url)\n",
        "  \n",
        "  return \"NA\""
      ],
      "execution_count": 0,
      "outputs": []
    },
    {
      "cell_type": "markdown",
      "metadata": {
        "id": "23ssFOMKYNXv",
        "colab_type": "text"
      },
      "source": [
        "## Scrape lyrics for all songs"
      ]
    },
    {
      "cell_type": "code",
      "metadata": {
        "id": "1pjxyw4TbTQi",
        "colab_type": "code",
        "colab": {}
      },
      "source": [
        "def get_lyrics(names, artists):\n",
        "  lyrics = load('lyrics_dict.pkl')\n",
        "  lyrics_list = []  \n",
        "  for i in trange(len(names)):\n",
        "    name, artist = names[i], artists[i]\n",
        "    key = \"{},{}\".format(name, \",\".join(artist))\n",
        "    if lyrics.get(key, 0) == 0:\n",
        "      lyrics[key] = extract_lyrics(name, artist[0])\n",
        "      \n",
        "    lyrics_list.append(lyrics[key])\n",
        "    if i % 1000 == 0: \n",
        "      save(lyrics, \"lyrics_dict.pkl\")\n",
        "    \n",
        "  return lyrics, lyrics_list\n",
        "  \n",
        "track_data = load('track_data.pkl')\n",
        "\n",
        "lyric_dict, lyric_list = get_lyrics(track_data['name'], track_data['artist'])\n",
        "save(lyric_dict,\"lyrics_dict.pkl\")\n",
        "\n",
        "track_data['lyrics'] = lyric_list\n",
        "track_data['artist_id'] = [[artist['id'] for artist in item['artists']] for item in items]\n",
        "save(track_data,\"track_data.pkl\")"
      ],
      "execution_count": 0,
      "outputs": []
    },
    {
      "cell_type": "markdown",
      "metadata": {
        "id": "-ycUEt7DYQpY",
        "colab_type": "text"
      },
      "source": [
        "## Get genres for all songs"
      ]
    },
    {
      "cell_type": "code",
      "metadata": {
        "id": "zUyAfwS_762Y",
        "colab_type": "code",
        "outputId": "bd2fffee-f249-41c7-d395-241799534271",
        "colab": {
          "base_uri": "https://localhost:8080/",
          "height": 68
        }
      },
      "source": [
        "track_data = load('track_data.pkl')\n",
        "def get_all_genres(spotify, all_artists):\n",
        "  all_genres = []\n",
        "  try: \n",
        "    artist_genre_map = load('genre_map.pkl')\n",
        "  except Exception:\n",
        "      artist_genre_map = {}\n",
        "      \n",
        "  for i in trange(len(all_artists)):\n",
        "    artist_ids = all_artists[i] \n",
        "    genres = set()\n",
        "    for artist_id in artist_ids:\n",
        "      if artist_id not in artist_genre_map:\n",
        "        artist_genre_map[artist_id] = spotify.artist(artist_id)['genres']\n",
        "      genres.update(artist_genre_map[artist_id])\n",
        "    all_genres.append(list(genres))\n",
        "  \n",
        "  return all_genres, artist_genre_map\n",
        "\n",
        "genre_list, genre_map = get_all_genres(spotify, track_data['artist_id'])\n",
        "save(genre_map,\"genre_map.pkl\")\n",
        "\n",
        "track_data['genres'] = genre_list\n",
        "save(track_data,\"track_data.pkl\")"
      ],
      "execution_count": 0,
      "outputs": [
        {
          "output_type": "stream",
          "text": [
            "100%|██████████| 1161/1161 [00:00<00:00, 271029.50it/s]"
          ],
          "name": "stderr"
        },
        {
          "output_type": "stream",
          "text": [
            "Saved at genre_map.pkl!\n",
            "Saved at track_data.pkl!\n"
          ],
          "name": "stdout"
        },
        {
          "output_type": "stream",
          "text": [
            "\n"
          ],
          "name": "stderr"
        }
      ]
    },
    {
      "cell_type": "code",
      "metadata": {
        "id": "vzWYqGRUdDVp",
        "colab_type": "code",
        "colab": {}
      },
      "source": [
        "df = pd.DataFrame(track_data)"
      ],
      "execution_count": 0,
      "outputs": []
    },
    {
      "cell_type": "code",
      "metadata": {
        "id": "arfTr5k1HxNs",
        "colab_type": "code",
        "colab": {}
      },
      "source": [
        "def lang_detect(text):\n",
        "  if text != \"NA\" and text:\n",
        "    try:\n",
        "      text = detect(text)\n",
        "      return text\n",
        "    except Exception:\n",
        "      return \"N/A\"\n",
        "      \n",
        "df['language'] = df['lyrics'].apply(lang_detect)\n",
        "save(df, \"saved_songs_df.pkl\")"
      ],
      "execution_count": 0,
      "outputs": []
    },
    {
      "cell_type": "markdown",
      "metadata": {
        "id": "rl4vYI-hamum",
        "colab_type": "text"
      },
      "source": [
        "## Import PD Dataframe"
      ]
    },
    {
      "cell_type": "code",
      "metadata": {
        "id": "DdHkrHtUHHHF",
        "colab_type": "code",
        "outputId": "83339437-d18d-4670-b440-9269bc83e84c",
        "colab": {
          "base_uri": "https://localhost:8080/",
          "height": 34
        }
      },
      "source": [
        "df = load('saved_songs_df.pkl')"
      ],
      "execution_count": 0,
      "outputs": [
        {
          "output_type": "stream",
          "text": [
            "Saved at saved_songs_df.pkl!\n"
          ],
          "name": "stdout"
        }
      ]
    },
    {
      "cell_type": "code",
      "metadata": {
        "id": "cChCYoAhlbfL",
        "colab_type": "code",
        "outputId": "76c1345b-20e6-4be3-c8c0-9b32fa6ea1d6",
        "colab": {
          "base_uri": "https://localhost:8080/",
          "height": 34
        }
      },
      "source": [
        "genre_df = pd.Series(Counter(chain.from_iterable(x for x in df.genres))).sort_values(ascending=False)\n",
        "genre_df.shape"
      ],
      "execution_count": 0,
      "outputs": [
        {
          "output_type": "execute_result",
          "data": {
            "text/plain": [
              "(327,)"
            ]
          },
          "metadata": {
            "tags": []
          },
          "execution_count": 238
        }
      ]
    },
    {
      "cell_type": "code",
      "metadata": {
        "id": "7hvl8ixWBiWH",
        "colab_type": "code",
        "outputId": "f5c42147-de64-4489-da24-3cc9f3cd2384",
        "colab": {
          "base_uri": "https://localhost:8080/",
          "height": 286
        }
      },
      "source": [
        "# df['lyric_len'] = df['lyrics'].str.len()\n",
        "# df.loc[df[\"lyrics\"] == \"NA\", 'lyric_len'] = 0\n",
        "# df['lyric_len'].head().mean"
      ],
      "execution_count": 0,
      "outputs": [
        {
          "output_type": "execute_result",
          "data": {
            "text/plain": [
              "<matplotlib.axes._subplots.AxesSubplot at 0x7f1a191b2a20>"
            ]
          },
          "metadata": {
            "tags": []
          },
          "execution_count": 56
        },
        {
          "output_type": "display_data",
          "data": {
            "image/png": "[encoded data removed]",
            "text/plain": [
              "<Figure size 432x288 with 1 Axes>"
            ]
          },
          "metadata": {
            "tags": []
          }
        }
      ]
    },
    {
      "cell_type": "markdown",
      "metadata": {
        "id": "McZoI0MOap4T",
        "colab_type": "text"
      },
      "source": [
        "## Scrape unlabeled songs"
      ]
    },
    {
      "cell_type": "code",
      "metadata": {
        "id": "k5mtLXANuB6m",
        "colab_type": "code",
        "colab": {}
      },
      "source": [
        "client_credentials_manager = SpotifyClientCredentials(\n",
        "    client_id=SPOTIPY_CLIENT_ID,\n",
        "    client_secret=SPOTIPY_CLIENT_SECRET)\n",
        "  \n",
        "sp_api = sp.Spotify(client_credentials_manager=client_credentials_manager)"
      ],
      "execution_count": 0,
      "outputs": []
    },
    {
      "cell_type": "code",
      "metadata": {
        "id": "v8equC35awbn",
        "colab_type": "code",
        "colab": {}
      },
      "source": [
        "genre_seeds = sp_api.recommendation_genre_seeds()"
      ],
      "execution_count": 0,
      "outputs": []
    },
    {
      "cell_type": "code",
      "metadata": {
        "id": "dSEzvbyoK-R1",
        "colab_type": "code",
        "colab": {}
      },
      "source": [
        "genre_list = genre_seeds['genres']\n",
        "def scrape_random_songs(target_total):\n",
        "  all_items = load('random_songs.pkl')\n",
        "  while len(all_items.keys()) <= target_total:\n",
        "    seed_genres = random.sample(genre_list, 5)\n",
        "    print(len(all_items.keys()), seed_genres)\n",
        "    recc = sp_api.recommendations(\n",
        "        seed_genres = seed_genres,\n",
        "        target_energy = random.uniform(0,1),\n",
        "        max_instrumentalness = max_instrumentalness,\n",
        "        limit=50\n",
        "    )\n",
        "    for item in recc['tracks']:\n",
        "      all_items[item['id']] = item\n",
        "    sleep(0.2)\n",
        "  save(all_items, \"random_songs.pkl\")"
      ],
      "execution_count": 0,
      "outputs": []
    },
    {
      "cell_type": "markdown",
      "metadata": {
        "id": "Jq2eOsMeZcIH",
        "colab_type": "text"
      },
      "source": [
        "## Get all details about scraped songs"
      ]
    },
    {
      "cell_type": "code",
      "metadata": {
        "id": "0zfT-eGbS7Kg",
        "colab_type": "code",
        "colab": {}
      },
      "source": [
        "# Scrape audio features\n",
        "random_tracks = load('random_songs.pkl')\n",
        "random_track_ids = list(random_tracks.keys())\n",
        "random_track_items = list(random_tracks.values())\n",
        "random_track_audio_features = get_audio_features_list(sp_api, random_track_ids)"
      ],
      "execution_count": 0,
      "outputs": []
    },
    {
      "cell_type": "code",
      "metadata": {
        "id": "z4o_g4rKaYMF",
        "colab_type": "code",
        "colab": {}
      },
      "source": [
        "# Get dict of audio_features\n",
        "random_track_audio_data = get_track_data_with_audio_features(random_track_audio_features)"
      ],
      "execution_count": 0,
      "outputs": []
    },
    {
      "cell_type": "code",
      "metadata": {
        "id": "xtTMm42wagVv",
        "colab_type": "code",
        "outputId": "abf19c34-e99f-4352-f3b1-ceb22c33e17e",
        "colab": {
          "base_uri": "https://localhost:8080/",
          "height": 34
        }
      },
      "source": [
        "# Get dict of track name, artist\n",
        "random_track_name_dict = get_track_name_dict(random_track_items)\n",
        "\n",
        "# Update audio dict\n",
        "random_track_data = random_track_audio_data.copy()\n",
        "random_track_data.update(random_track_name_dict)\n",
        "\n",
        "# Get popularity\n",
        "random_track_data['popularity'] = [item['popularity'] for item in random_track_items]\n",
        "save(random_track_data,\"random_track_data.pkl\")"
      ],
      "execution_count": 0,
      "outputs": [
        {
          "output_type": "stream",
          "text": [
            "Saved at random_track_data.pkl!\n"
          ],
          "name": "stdout"
        }
      ]
    },
    {
      "cell_type": "code",
      "metadata": {
        "id": "dcucqu8Na222",
        "colab_type": "code",
        "colab": {}
      },
      "source": [
        "random_track_data = load('random_track_data.pkl')\n",
        "\n",
        "# Get lyrics and store hashmap\n",
        "random_lyric_dict, random_lyric_list = get_lyrics(random_track_data['name'], random_track_data['artist'])\n",
        "# save(random_lyric_dict,\"lyrics_dict.pkl\")\n",
        "\n",
        "# Add lyric list and artist ids to data dictionary\n",
        "random_track_data['lyrics'] = random_lyric_list\n",
        "random_track_data['artist_id'] = [[artist['id'] for artist in item['artists']] for item in random_track_items]\n",
        "\n",
        "save(random_track_data,\"random_track_data.pkl\")"
      ],
      "execution_count": 0,
      "outputs": []
    },
    {
      "cell_type": "code",
      "metadata": {
        "id": "FgAi6BZLbXLS",
        "colab_type": "code",
        "outputId": "9bead2f1-b4b8-44ff-a77b-fefe63573f74",
        "colab": {
          "base_uri": "https://localhost:8080/",
          "height": 85
        }
      },
      "source": [
        "random_track_data = load('random_track_data.pkl')\n",
        "\n",
        "# Get all genres for each track and store genre hash map\n",
        "random_track_genre_list, genre_map = get_all_genres(sp_api, random_track_data['artist_id'])\n",
        "save(genre_map,\"genre_map.pkl\")\n",
        "\n",
        "random_track_data['genres'] = random_track_genre_list\n",
        "save(random_track_data,\"random_track_data.pkl\")"
      ],
      "execution_count": 0,
      "outputs": [
        {
          "output_type": "stream",
          "text": [
            "\n",
            "  0%|          | 0/15019 [00:00<?, ?it/s]\u001b[A\n",
            "100%|██████████| 15019/15019 [00:00<00:00, 372003.05it/s]\u001b[A"
          ],
          "name": "stderr"
        },
        {
          "output_type": "stream",
          "text": [
            "Saved at genre_map.pkl!\n",
            "Saved at random_track_data.pkl!\n"
          ],
          "name": "stdout"
        }
      ]
    },
    {
      "cell_type": "code",
      "metadata": {
        "id": "zK-g-4EH7erg",
        "colab_type": "code",
        "colab": {}
      },
      "source": [
        "df = load(df, \"random_songs_df.pkl\")\n",
        "\n",
        "df['language'] = df['lyrics'].apply(lang_detect)\n",
        "save(df, \"random_songs_df.pkl\")"
      ],
      "execution_count": 0,
      "outputs": []
    }
  ]
}